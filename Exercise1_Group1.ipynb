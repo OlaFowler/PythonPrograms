{
  "nbformat": 4,
  "nbformat_minor": 0,
  "metadata": {
    "colab": {
      "provenance": [],
      "include_colab_link": true
    },
    "kernelspec": {
      "name": "python3",
      "display_name": "Python 3"
    },
    "language_info": {
      "name": "python"
    }
  },
  "cells": [
    {
      "cell_type": "markdown",
      "metadata": {
        "id": "view-in-github",
        "colab_type": "text"
      },
      "source": [
        "<a href=\"https://colab.research.google.com/github/OlaFowler/PythonPrograms/blob/master/Exercise1_Group1.ipynb\" target=\"_parent\"><img src=\"https://colab.research.google.com/assets/colab-badge.svg\" alt=\"Open In Colab\"/></a>"
      ]
    },
    {
      "cell_type": "code",
      "execution_count": null,
      "metadata": {
        "colab": {
          "base_uri": "https://localhost:8080/"
        },
        "id": "jompdANGsA3-",
        "outputId": "f2bdab33-be86-41d2-c6c2-109d1aa8112e"
      },
      "outputs": [
        {
          "output_type": "stream",
          "name": "stdout",
          "text": [
            "false\n",
            "True\n",
            "1\n",
            "2\n",
            "3\n",
            "4\n",
            "5\n",
            "6\n",
            "7\n",
            "8\n",
            "9\n"
          ]
        }
      ],
      "source": [
        "#Q1 Given two integer numbers. If any of the numbers are greater than 50 return t\n",
        "number1=20\n",
        "number2=40\n",
        "if (number1 and number2 > 50):\n",
        "  print(\"true\")\n",
        "print(\"false\")"
      ]
    },
    {
      "cell_type": "code",
      "source": [
        "#Q2 Given a list of numbers, return True if first and last number of a list is same\n",
        "list=[1,2,5,4,1]\n",
        "list1=[1,2,5,4,1]\n",
        "if ((list[-1] == list1[-1]) and (list[0] == list1[0])):\n",
        "   print('True')\n",
        "else: \n",
        "    print('False')"
      ],
      "metadata": {
        "id": "kiaW2-YvxGEF"
      },
      "execution_count": null,
      "outputs": []
    },
    {
      "cell_type": "code",
      "source": [
        "#Q3 Given a range of the first 10 numbers[1:10], Iterate from the start number to last number \n",
        "#and In each iteration print the sum of the current number and previous number\n",
        "x = range(1, 10)\n",
        "iSum = 0\n",
        "for n in x:\n",
        "  iSum = iSum + n\n",
        "  print(n, iSum)\n",
        "  \n",
        "\n",
        "  "
      ],
      "metadata": {
        "colab": {
          "base_uri": "https://localhost:8080/"
        },
        "id": "kz1DF4nfw3ga",
        "outputId": "4a0c5704-3dd9-4c31-c062-b2dabbb926b1"
      },
      "execution_count": null,
      "outputs": [
        {
          "output_type": "stream",
          "name": "stdout",
          "text": [
            "1 1\n",
            "2 3\n",
            "3 6\n",
            "4 10\n",
            "5 15\n",
            "6 21\n",
            "7 28\n",
            "8 36\n",
            "9 45\n"
          ]
        }
      ]
    },
    {
      "cell_type": "code",
      "source": [
        "#Q4 Given a string name, display only those characters which are present at an even\n",
        "name=\"NPowerCanada\"\n",
        "print(name [::2])"
      ],
      "metadata": {
        "id": "9MGJXY74xR9O",
        "colab": {
          "base_uri": "https://localhost:8080/"
        },
        "outputId": "ebb10c97-16ed-4cc5-ad10-725bc6f51ec7"
      },
      "execution_count": null,
      "outputs": [
        {
          "output_type": "stream",
          "name": "stdout",
          "text": [
            "NoeCnd\n"
          ]
        }
      ]
    },
    {
      "cell_type": "code",
      "source": [
        "#Q5 Given a string oldString and an integer number n,\n",
        "#remove characters from a string starting from zero up to n and return a newStrin\n",
        "oldString=\"PythonCourse\"\n",
        "n=6\n",
        "newString = oldString.replace(oldString[:n],'')\n",
        "print(newString)\n",
        "\n",
        "\n"
      ],
      "metadata": {
        "colab": {
          "base_uri": "https://localhost:8080/"
        },
        "id": "EjpIEG6W1KuT",
        "outputId": "ecb78311-8bdd-4927-aa4b-78fb0f495d83"
      },
      "execution_count": null,
      "outputs": [
        {
          "output_type": "stream",
          "name": "stdout",
          "text": [
            "Course\n"
          ]
        }
      ]
    },
    {
      "cell_type": "code",
      "source": [
        "#Q6 Print the follwoing pattern\n",
        "#*\n",
        "#**\n",
        "#***\n",
        "#****\n",
        "for i in range(1,5):\n",
        "  print('*'* i)"
      ],
      "metadata": {
        "colab": {
          "base_uri": "https://localhost:8080/"
        },
        "id": "brTBU1pe3_it",
        "outputId": "812dbdc5-7834-4b99-92e0-87d30b73d449"
      },
      "execution_count": null,
      "outputs": [
        {
          "output_type": "stream",
          "name": "stdout",
          "text": [
            "*\n",
            "**\n",
            "***\n",
            "****\n"
          ]
        }
      ]
    },
    {
      "cell_type": "code",
      "source": [
        "#Q7 Reverse the following list using for loop\n",
        "list1=[90,70,50,60]\n",
        "# Reverse a Python list with a for loop\n",
        "reversed_list = []\n",
        "for item in list1:\n",
        "    reversed_list = [item] + reversed_list\n",
        "\n",
        "print(reversed_list)"
      ],
      "metadata": {
        "colab": {
          "base_uri": "https://localhost:8080/"
        },
        "id": "GDJXRh1R5fGo",
        "outputId": "036e7165-d637-4269-b0ce-e356f86493a6"
      },
      "execution_count": null,
      "outputs": [
        {
          "output_type": "stream",
          "name": "stdout",
          "text": [
            "[60, 50, 70, 90]\n"
          ]
        }
      ]
    },
    {
      "cell_type": "code",
      "source": [
        "#Q8 Display numbers from -10 to -1 using for loop [hint use range method]\n",
        "for n in range(-10, 0):\n",
        "\tprint(n)"
      ],
      "metadata": {
        "colab": {
          "base_uri": "https://localhost:8080/"
        },
        "id": "xKwyK1So8Dpc",
        "outputId": "8c36fc12-6e86-49ef-c6aa-2ad8d4b59aef"
      },
      "execution_count": null,
      "outputs": [
        {
          "output_type": "stream",
          "name": "stdout",
          "text": [
            "-10\n",
            "-9\n",
            "-8\n",
            "-7\n",
            "-6\n",
            "-5\n",
            "-4\n",
            "-3\n",
            "-2\n",
            "-1\n"
          ]
        }
      ]
    }
  ]
}