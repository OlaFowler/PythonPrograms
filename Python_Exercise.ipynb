{
  "nbformat": 4,
  "nbformat_minor": 0,
  "metadata": {
    "colab": {
      "provenance": [],
      "include_colab_link": true
    },
    "kernelspec": {
      "name": "python3",
      "display_name": "Python 3"
    },
    "language_info": {
      "name": "python"
    }
  },
  "cells": [
    {
      "cell_type": "markdown",
      "metadata": {
        "id": "view-in-github",
        "colab_type": "text"
      },
      "source": [
        "<a href=\"https://colab.research.google.com/github/OlaFowler/PythonPrograms/blob/master/Python_Exercise.ipynb\" target=\"_parent\"><img src=\"https://colab.research.google.com/assets/colab-badge.svg\" alt=\"Open In Colab\"/></a>"
      ]
    },
    {
      "cell_type": "code",
      "execution_count": null,
      "metadata": {
        "colab": {
          "base_uri": "https://localhost:8080/"
        },
        "id": "Kuewaoaa9bVb",
        "outputId": "24ce2292-3cb5-4cd7-881b-dbd0bc407bd7"
      },
      "outputs": [
        {
          "output_type": "stream",
          "name": "stdout",
          "text": [
            "3\n"
          ]
        }
      ],
      "source": [
        "#Q1 Write Python function that takes two inputs\n",
        "#and return their sum value\n",
        "def sum(num1, num2):\n",
        "  return num1+num2\n",
        "print(sum(1,2))\n"
      ]
    },
    {
      "cell_type": "code",
      "source": [
        "#Q2 Write Python function the takes a celsius temprature\n",
        "#and converts it into fahrenheit\n",
        "def fahrenheit(celsius):\n",
        "  return (celsius * 1.8000) + 32\n",
        "print(fahrenheit(10)) "
      ],
      "metadata": {
        "colab": {
          "base_uri": "https://localhost:8080/"
        },
        "id": "Nb8mC1AH-gph",
        "outputId": "f6af9f5e-2dba-49b5-8c60-6cfb160a0ff4"
      },
      "execution_count": null,
      "outputs": [
        {
          "output_type": "stream",
          "name": "stdout",
          "text": [
            "50.0\n"
          ]
        }
      ]
    },
    {
      "cell_type": "code",
      "source": [
        "#Q3 Write a Python function to find the Max of three numbers\n",
        "def calcmax(A,B,C):\n",
        "  return max(A,B,C)\n",
        "print(calcmax(30,70,40))"
      ],
      "metadata": {
        "colab": {
          "base_uri": "https://localhost:8080/"
        },
        "id": "akGH-_kC_qPA",
        "outputId": "badb68a5-2a9a-4203-94bb-7d037a2d32b0"
      },
      "execution_count": null,
      "outputs": [
        {
          "output_type": "stream",
          "name": "stdout",
          "text": [
            "70\n"
          ]
        }
      ]
    },
    {
      "cell_type": "code",
      "source": [
        "#Q4 Write a Python function to check whether a number\n",
        "#is in a given range [5,12]\n",
        "def inRange(number):\n",
        "\tif number in range(5, 12):\n",
        "\t\treturn True\n",
        "\telse:\n",
        "\t\treturn False\n",
        "        \n",
        "print(inRange(9))"
      ],
      "metadata": {
        "id": "AeOuH5E7APCc",
        "outputId": "2f56a9b5-0e6d-4952-e7fa-692e9f148aec",
        "colab": {
          "base_uri": "https://localhost:8080/"
        }
      },
      "execution_count": null,
      "outputs": [
        {
          "output_type": "stream",
          "name": "stdout",
          "text": [
            "True\n"
          ]
        }
      ]
    },
    {
      "cell_type": "code",
      "source": [
        "#Q5 Write a Python function that takes a list\n",
        "#and returns a new list with unique elements of the first\n",
        "Sample_List = [1,2,3,3,3,3,4,5]\n",
        "list1 = []\n",
        "def unique1(i):\n",
        "  for a in i:\n",
        "    if a not in list1:\n",
        "      list1.append(a)\n",
        "  return list1\n",
        "print(unique1(Sample_List))\n",
        "\n"
      ],
      "metadata": {
        "colab": {
          "base_uri": "https://localhost:8080/"
        },
        "id": "5VYZpvAQImkh",
        "outputId": "c44fbedb-afb1-4dd8-e68c-e820e5827f27"
      },
      "execution_count": null,
      "outputs": [
        {
          "output_type": "stream",
          "name": "stdout",
          "text": [
            "[1, 2, 3, 4, 5]\n"
          ]
        }
      ]
    },
    {
      "cell_type": "code",
      "source": [
        "#Q6 Given a list of numbers, return True if first\n",
        "#and last number of a list is same\n",
        "list1=[1,2,5,4,1]\n",
        "list2=[5,6,3,2,1]\n",
        "list3=[88,44,55,66,77,88]\n",
        "def numTest(list):\n",
        "  if (list[-1] == list[0]):\n",
        "    return True\n",
        "  else:      \n",
        "    return False\n",
        "\n",
        "print(numTest(list3))\n",
        "print(numTest(list2))\n",
        "print(numTest(list1))"
      ],
      "metadata": {
        "colab": {
          "base_uri": "https://localhost:8080/"
        },
        "id": "gxUWLvi7KWOc",
        "outputId": "26778ca0-0e5b-4f41-85ed-bc678504f787"
      },
      "execution_count": null,
      "outputs": [
        {
          "output_type": "stream",
          "name": "stdout",
          "text": [
            "True\n",
            "False\n",
            "True\n"
          ]
        }
      ]
    }
  ]
}