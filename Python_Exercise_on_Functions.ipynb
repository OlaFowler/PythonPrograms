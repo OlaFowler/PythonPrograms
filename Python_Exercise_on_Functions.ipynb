{
  "nbformat": 4,
  "nbformat_minor": 0,
  "metadata": {
    "colab": {
      "provenance": [],
      "include_colab_link": true
    },
    "kernelspec": {
      "name": "python3",
      "display_name": "Python 3"
    },
    "language_info": {
      "name": "python"
    }
  },
  "cells": [
    {
      "cell_type": "markdown",
      "metadata": {
        "id": "view-in-github",
        "colab_type": "text"
      },
      "source": [
        "<a href=\"https://colab.research.google.com/github/OlaFowler/PythonPrograms/blob/master/Python_Exercise_on_Functions.ipynb\" target=\"_parent\"><img src=\"https://colab.research.google.com/assets/colab-badge.svg\" alt=\"Open In Colab\"/></a>"
      ]
    },
    {
      "cell_type": "code",
      "execution_count": null,
      "metadata": {
        "colab": {
          "base_uri": "https://localhost:8080/"
        },
        "id": "Kuewaoaa9bVb",
        "outputId": "ee1882a9-d9cd-4d95-a202-0c33b682ec13"
      },
      "outputs": [
        {
          "output_type": "stream",
          "name": "stdout",
          "text": [
            "Insert first number15\n",
            "Insert second number32\n",
            "47\n"
          ]
        }
      ],
      "source": [
        "#Q1 Write Python function that takes two inputs\n",
        "#and return their sum value\n",
        "x = int(input('Insert first number: '))\n",
        "y = int(input('Insert second number: '))\n",
        "def sum(num1, num2):\n",
        "  return num1+num2\n",
        "print(sum(x,y))\n"
      ]
    },
    {
      "cell_type": "code",
      "source": [
        "#Q2 Write Python function the takes a celsius temprature\n",
        "#and converts it into fahrenheit\n",
        "x = int(input('Insert Temperature in degree celsius: '))\n",
        "\n",
        "def fahrenheit(celsius):\n",
        "  return (celsius * 1.8000) + 32\n",
        "print(fahrenheit(x)) "
      ],
      "metadata": {
        "colab": {
          "base_uri": "https://localhost:8080/"
        },
        "id": "Nb8mC1AH-gph",
        "outputId": "54221807-837b-4f9f-8fb8-f8c861cd50e8"
      },
      "execution_count": null,
      "outputs": [
        {
          "output_type": "stream",
          "name": "stdout",
          "text": [
            "Insert Temperature in degree celsius: -20\n",
            "-4.0\n"
          ]
        }
      ]
    },
    {
      "cell_type": "code",
      "source": [
        "#Q3 Write a Python function to find the Max of three numbers\n",
        "x = int(input('Insert first number: '))\n",
        "y = int(input('Insert second number: '))\n",
        "z = int(input('Insert third number: '))\n",
        "\n",
        "def calcmax(A,B,C):\n",
        "  return max(A,B,C)\n",
        "\n",
        "print(calcmax(x,y,z))"
      ],
      "metadata": {
        "colab": {
          "base_uri": "https://localhost:8080/"
        },
        "id": "akGH-_kC_qPA",
        "outputId": "70612384-b230-4870-aad5-cd825953e2cd"
      },
      "execution_count": null,
      "outputs": [
        {
          "output_type": "stream",
          "name": "stdout",
          "text": [
            "Insert first number: 20\n",
            "Insert second number: 24\n",
            "Insert third number: 35\n",
            "35\n"
          ]
        }
      ]
    },
    {
      "cell_type": "code",
      "source": [
        "#Q4 Write a Python function to check whether a number\n",
        "#is in a given range [5,12]\n",
        "\n",
        "x = int(input('Insert the number to check: '))\n",
        "\n",
        "def inRange(number):\n",
        "\tif number in range(5, 12):\n",
        "\t\treturn True\n",
        "\telse:\n",
        "\t\treturn False\n",
        "        \n",
        "print(inRange(9))"
      ],
      "metadata": {
        "id": "AeOuH5E7APCc",
        "outputId": "2d6c7b28-22d2-498d-dee3-51c83bc4c205",
        "colab": {
          "base_uri": "https://localhost:8080/"
        }
      },
      "execution_count": null,
      "outputs": [
        {
          "output_type": "stream",
          "name": "stdout",
          "text": [
            "Insert the number to check: 8\n",
            "True\n"
          ]
        }
      ]
    },
    {
      "cell_type": "code",
      "source": [
        "#Q5 Write a Python function that takes a list\n",
        "#and returns a new list with unique elements of the first\n",
        "Sample_List = [1,2,3,3,3,3,4,5]\n",
        "list1 = []\n",
        "def unique1(i):\n",
        "  for a in i:\n",
        "    if a not in list1:\n",
        "      list1.append(a)\n",
        "  return list1\n",
        "print(unique1(Sample_List))\n",
        "\n"
      ],
      "metadata": {
        "colab": {
          "base_uri": "https://localhost:8080/"
        },
        "id": "5VYZpvAQImkh",
        "outputId": "dc22be5a-b409-4f26-9d92-498fc773d852"
      },
      "execution_count": null,
      "outputs": [
        {
          "output_type": "stream",
          "name": "stdout",
          "text": [
            "[1, 2, 3, 4, 5]\n"
          ]
        }
      ]
    },
    {
      "cell_type": "code",
      "source": [
        "#Q6 Given a list of numbers, return True if first\n",
        "#and last number of a list is same\n",
        "list1=[1,2,5,4,1]\n",
        "list2=[5,6,3,2,1]\n",
        "list3=[88,44,55,66,77,88]\n",
        "def numTest(list):\n",
        "  if (list[-1] == list[0]):\n",
        "    return True\n",
        "  else:      \n",
        "    return False\n",
        "\n",
        "print(numTest(list3))\n",
        "print(numTest(list2))\n",
        "print(numTest(list1))"
      ],
      "metadata": {
        "colab": {
          "base_uri": "https://localhost:8080/"
        },
        "id": "gxUWLvi7KWOc",
        "outputId": "5d7fb10e-e036-43ed-a2d1-1593f115cfa6"
      },
      "execution_count": null,
      "outputs": [
        {
          "output_type": "stream",
          "name": "stdout",
          "text": [
            "True\n",
            "False\n",
            "True\n"
          ]
        }
      ]
    }
  ]
}