{
  "nbformat": 4,
  "nbformat_minor": 0,
  "metadata": {
    "colab": {
      "provenance": [],
      "include_colab_link": true
    },
    "kernelspec": {
      "name": "python3",
      "display_name": "Python 3"
    },
    "language_info": {
      "name": "python"
    }
  },
  "cells": [
    {
      "cell_type": "markdown",
      "metadata": {
        "id": "view-in-github",
        "colab_type": "text"
      },
      "source": [
        "<a href=\"https://colab.research.google.com/github/OlaFowler/PythonPrograms/blob/master/Python_Exercise2.ipynb\" target=\"_parent\"><img src=\"https://colab.research.google.com/assets/colab-badge.svg\" alt=\"Open In Colab\"/></a>"
      ]
    },
    {
      "cell_type": "code",
      "execution_count": 1,
      "metadata": {
        "colab": {
          "base_uri": "https://localhost:8080/"
        },
        "id": "jompdANGsA3-",
        "outputId": "6e03b956-8ed1-46ff-8084-6c25fe7468b6"
      },
      "outputs": [
        {
          "output_type": "stream",
          "name": "stdout",
          "text": [
            "false\n"
          ]
        }
      ],
      "source": [
        "#Q1 Given two integer numbers. If any of the numbers are greater than 50 return t\n",
        "number1=20\n",
        "number2=40\n",
        "if (number1 and number2 > 50):\n",
        "  print(\"true\")\n",
        "print(\"false\")"
      ]
    },
    {
      "cell_type": "code",
      "source": [
        "#Q2 Given a list of numbers, return True if first and last number of a list is same\n",
        "list=[1,2,5,4,1]\n",
        "list1=[1,2,5,4,1]\n",
        "if ((list[-1] == list1[-1]) and (list[0] == list1[0])):\n",
        "   print('True')\n",
        "else: \n",
        "    print('False')"
      ],
      "metadata": {
        "id": "kiaW2-YvxGEF",
        "colab": {
          "base_uri": "https://localhost:8080/"
        },
        "outputId": "91be37a0-0dd1-4e27-d23f-5a6714ebe828"
      },
      "execution_count": 2,
      "outputs": [
        {
          "output_type": "stream",
          "name": "stdout",
          "text": [
            "True\n"
          ]
        }
      ]
    },
    {
      "cell_type": "code",
      "source": [
        "#Q3 Given a range of the first 10 numbers[1:10], Iterate from the start number to last number \n",
        "#and In each iteration print the sum of the current number and previous number\n",
        "x = range(1, 10)\n",
        "iSum = 0\n",
        "for n in x:\n",
        "  iSum = iSum + n\n",
        "  print(n, iSum)\n",
        "  \n",
        "\n",
        "  "
      ],
      "metadata": {
        "colab": {
          "base_uri": "https://localhost:8080/"
        },
        "id": "kz1DF4nfw3ga",
        "outputId": "9b813abe-f0ed-4d3b-a086-d8d61686946a"
      },
      "execution_count": 3,
      "outputs": [
        {
          "output_type": "stream",
          "name": "stdout",
          "text": [
            "1 1\n",
            "2 3\n",
            "3 6\n",
            "4 10\n",
            "5 15\n",
            "6 21\n",
            "7 28\n",
            "8 36\n",
            "9 45\n"
          ]
        }
      ]
    },
    {
      "cell_type": "code",
      "source": [
        "#Q4 Given a string name, display only those characters which are present at an even\n",
        "name=\"NPowerCanada\"\n",
        "print(name [::2])"
      ],
      "metadata": {
        "id": "9MGJXY74xR9O",
        "colab": {
          "base_uri": "https://localhost:8080/"
        },
        "outputId": "150de9bd-ecc3-4de0-fc75-90624086b4c7"
      },
      "execution_count": 4,
      "outputs": [
        {
          "output_type": "stream",
          "name": "stdout",
          "text": [
            "NoeCnd\n"
          ]
        }
      ]
    },
    {
      "cell_type": "code",
      "source": [
        "#Q5 Given a string oldString and an integer number n,\n",
        "#remove characters from a string starting from zero up to n and return a newStrin\n",
        "oldString=\"PythonCourse\"\n",
        "n=6\n",
        "newString = oldString.replace(oldString[:n],'')\n",
        "print(newString)\n",
        "\n",
        "\n"
      ],
      "metadata": {
        "colab": {
          "base_uri": "https://localhost:8080/"
        },
        "id": "EjpIEG6W1KuT",
        "outputId": "cf37f9b7-2e52-4072-81c3-e7bf69f6bdf4"
      },
      "execution_count": 5,
      "outputs": [
        {
          "output_type": "stream",
          "name": "stdout",
          "text": [
            "Course\n"
          ]
        }
      ]
    },
    {
      "cell_type": "code",
      "source": [
        "#Q6 Print the follwoing pattern\n",
        "#*\n",
        "#**\n",
        "#***\n",
        "#****\n",
        "for i in range(1,5):\n",
        "  print('*'* i)"
      ],
      "metadata": {
        "colab": {
          "base_uri": "https://localhost:8080/"
        },
        "id": "brTBU1pe3_it",
        "outputId": "78708dab-d898-4a59-b7da-93839c2bd005"
      },
      "execution_count": 6,
      "outputs": [
        {
          "output_type": "stream",
          "name": "stdout",
          "text": [
            "*\n",
            "**\n",
            "***\n",
            "****\n"
          ]
        }
      ]
    },
    {
      "cell_type": "code",
      "source": [
        "#Q7 Reverse the following list using for loop\n",
        "list1=[90,70,50,60]\n",
        "# Reverse a Python list with a for loop\n",
        "reversed_list = []\n",
        "for item in list1:\n",
        "    reversed_list = [item] + reversed_list\n",
        "\n",
        "print(reversed_list)"
      ],
      "metadata": {
        "colab": {
          "base_uri": "https://localhost:8080/"
        },
        "id": "GDJXRh1R5fGo",
        "outputId": "c029d5f9-5d94-46d9-f8e4-b0adac0324b4"
      },
      "execution_count": 7,
      "outputs": [
        {
          "output_type": "stream",
          "name": "stdout",
          "text": [
            "[60, 50, 70, 90]\n"
          ]
        }
      ]
    },
    {
      "cell_type": "code",
      "source": [
        "#Q8 Display numbers from -10 to -1 using for loop [hint use range method]\n",
        "for n in range(-10, 0):\n",
        "\tprint(n)"
      ],
      "metadata": {
        "colab": {
          "base_uri": "https://localhost:8080/"
        },
        "id": "xKwyK1So8Dpc",
        "outputId": "6e12cdc8-d59c-41ec-f877-8f7789cb696e"
      },
      "execution_count": 8,
      "outputs": [
        {
          "output_type": "stream",
          "name": "stdout",
          "text": [
            "-10\n",
            "-9\n",
            "-8\n",
            "-7\n",
            "-6\n",
            "-5\n",
            "-4\n",
            "-3\n",
            "-2\n",
            "-1\n"
          ]
        }
      ]
    }
  ]
}
